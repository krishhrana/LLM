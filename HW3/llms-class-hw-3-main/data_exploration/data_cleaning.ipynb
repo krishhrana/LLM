{
 "cells": [
  {
   "cell_type": "code",
   "execution_count": 1,
   "metadata": {},
   "outputs": [
    {
     "name": "stderr",
     "output_type": "stream",
     "text": [
      "/home/ubuntu/miniconda3/envs/HW3/lib/python3.10/site-packages/tqdm/auto.py:21: TqdmWarning: IProgress not found. Please update jupyter and ipywidgets. See https://ipywidgets.readthedocs.io/en/stable/user_install.html\n",
      "  from .autonotebook import tqdm as notebook_tqdm\n"
     ]
    }
   ],
   "source": [
    "import datasets\n",
    "import numpy as np\n",
    "#import cleaning\n",
    "from get_data import fetch_data\n",
    "import re\n",
    "import tiktoken\n",
    "num_proc = 8"
   ]
  },
  {
   "cell_type": "code",
   "execution_count": 2,
   "metadata": {},
   "outputs": [
    {
     "name": "stderr",
     "output_type": "stream",
     "text": [
      "/home/ubuntu/miniconda3/envs/HW3/lib/python3.10/site-packages/huggingface_hub/repocard.py:105: UserWarning: Repo card metadata block was not found. Setting CardData to empty.\n",
      "  warnings.warn(\"Repo card metadata block was not found. Setting CardData to empty.\")\n"
     ]
    }
   ],
   "source": [
    "train_data, val_data = fetch_data()"
   ]
  },
  {
   "cell_type": "code",
   "execution_count": 3,
   "metadata": {},
   "outputs": [
    {
     "data": {
      "text/plain": [
       "'November 24, 2016 – World News, Breaking News\\nWednesday, April 24, 2019\\nLatest:\\nFitbit introduced “smart” watches, Versa Lite, and a fitness bracelets under $100\\nUpgraded Acer laptop Aspire 3 entered the Ukrainian market with a price tag from 8939 UAH\\nMicrosoft discontinues support fitness bracelets Band, but promises compensation to users\\nSamsung Connect combines Wi-Fi and the Internet of things in a single device\\nMWC 2019: Nubia announced a smart watch Alpha camera and flexible OLED display\\nWorld News, Breaking News\\nRussia, USA, World\\nSOCIETY\\nUSA NEWS\\nPOLITICS\\nECONOMICS\\nBUSINESS\\nFINANCES\\nAuto\\nTECHNOLOGY AND MEDIA\\nVIDEO NEWS\\nSPORT\\nDay: November 24, 2016\\nSPORT\\nBest of the best: from Singapore Ukrainian swimmers Romanchuk and Zevin brought home 5 awards of the world Cup!\\nNovember 24, 2016 trump\\nUkrainian swimmers once again prove that they are the fastest in the world. After the end of the world Cup,\\nRead more\\nCULTURE\\nBlue velvet is a creepy, seductive, and ahead of the times\\nNovember 24, 2016 trump\\nBlue velvet was released 30 years ago, in 1986, but David Lynch’s ” woozy surrealist masterpiece, not quite in the\\nRead more\\nUSA NEWS\\nMerkel criticized the plans of trump’s exit from TTP\\nNovember 24, 2016 trump\\nGerman Chancellor dissatisfied by the possible disruption of trade agreements German Chancellor Angela Merkel on Wednesday expressed dissatisfaction with the\\nRead more\\nUSA NEWS\\nGettysburg. From Lincoln to trump\\nNovember 24, 2016 trump\\n“May we, the living, dedicate ourselves to the unfinished work, which was done by these warriors.” From the Gettysburg address\\nRead more\\nTECHNOLOGY AND MEDIA\\nOverhead planar-magnetic headphones Audeze Sine in Ukraine\\nNovember 24, 2016 trump\\nIn January at CES 2016, the company introduced the Audeze headphones Sine, which he calls the world’s first invoice planar-magnetic\\nRead more\\nTECHNOLOGY AND MEDIA\\nGames from Steam launched on the PlayStation 4\\nNovember 24, 2016 trump\\nWith the transition to the new generation of gaming systems, Sony has abandoned the specific architecture of the Cell and\\nRead more\\nSPORT\\nThere was video as the Polish footballer Adam Fratczak during the execution of the penalty was thrown at him eating a waffle\\nNovember 24, 2016 trump\\nNow a video with a pole and a chocolate wafer, it is possible to use in advertising “Snickers” with the\\nRead more\\nUSA NEWS\\nTrump denounced the white Suprematists\\nNovember 24, 2016 trump\\nAt the meeting with the staff of the “new York times” the US President-elect rejected the idea of “alternative right”\\nRead more\\nWORLD\\nPushilin did not consider it timely to talk about the independence of the DNI\\nNovember 24, 2016 trump\\nSUKHUM, 24 Nov — RIA Novosti. The envoy of the self-proclaimed Donetsk national Republic in the contact group on Ukraine\\nRead more\\nFINANCES\\nTime to fix the profitability of banks has lowered rates on long deposits\\nNovember 24, 2016 trump\\nOver the past month — from 10 June to 10 July rates on ruble deposits in the top 15 largest\\nRead more\\nSPORT\\nMustache boxer of the year by the world Boxing organization\\nNovember 24, 2016 trump\\nFamous Ukrainian athlete Oleksandr Usyk earned from prestigious world Boxing organization an award in the form of the title of\\nRead more\\n← Previous\\nCategories\\nAuto\\nBUSINESS\\nCULTURE\\nECONOMICS\\nFINANCES\\nINCIDENTS\\nPOLITICS\\nRELIGION\\nSOCIETY\\nSPORT\\nTECHNOLOGY AND MEDIA\\nUSA NEWS\\nVIDEO NEWS\\nWORLD\\nRecent Posts\\nFitbit introduced “smart” watches, Versa Lite, and a fitness bracelets under $100\\nUpgraded Acer laptop Aspire 3 entered the Ukrainian market with a price tag from 8939 UAH\\nMicrosoft discontinues support fitness bracelets Band, but promises compensation to users\\nSamsung Connect combines Wi-Fi and the Internet of things in a single device\\nMWC 2019: Nubia announced a smart watch Alpha camera and flexible OLED display\\nNovember 2016\\nM\\nT\\nW\\nT\\nF\\nS\\nS\\n« Oct Dec »\\n1 2 3 4 5 6\\n7 8 9 10 11 12 13\\n14 15 16 17 18 19 20\\n21 22 23 24 25 26 27\\n28 29 30\\nCopyright © 2019 World News, Breaking News. All rights reserved.\\nTheme: ColorMag by ThemeGrill. Powered by WordPress.'"
      ]
     },
     "execution_count": 3,
     "metadata": {},
     "output_type": "execute_result"
    }
   ],
   "source": [
    "train_data[0]['text']"
   ]
  },
  {
   "cell_type": "code",
   "execution_count": 3,
   "metadata": {},
   "outputs": [],
   "source": [
    "# Filtering non-english text at word level\n",
    "non_english_regex = re.compile(r'[^\\u0000-\\u007F]+')\n",
    "def filter_non_english(example):\n",
    "    text = example['text']\n",
    "    words = text.split()\n",
    "    english_words = [w for w in words if not cleaning.filter_noneng(w)]\n",
    "    return {'text': \" \".join(english_words), 'before_filter': len(words), 'after_filter': len(english_words)}"
   ]
  },
  {
   "cell_type": "code",
   "execution_count": 4,
   "metadata": {},
   "outputs": [],
   "source": [
    "def filter_pii(example):\n",
    "    filtered_text = cleaning.clean_pii(example['text'])\n",
    "    return {'text': filtered_text, 'before_filter': len(example['text']), 'after_filter': len(filtered_text)}"
   ]
  },
  {
   "cell_type": "code",
   "execution_count": 5,
   "metadata": {},
   "outputs": [],
   "source": [
    "def clean(dataset):\n",
    "    print(\"Filtering non-english words: \")\n",
    "    dataset = dataset.map(filter_non_english, num_proc = num_proc)\n",
    "    before_filter = np.sum(dataset['before_filter'])\n",
    "    after_filter = np.sum(dataset['after_filter'])\n",
    "    print(f'Words before filtering: {before_filter}')\n",
    "    print(f'Words after filtering: {after_filter}')\n",
    "    print(f'Words removed: {before_filter - after_filter}')\n",
    "    print()\n",
    "\n",
    "    print(\"Applying Offensive Words filtering: \")\n",
    "    before_filter = len(dataset)\n",
    "    bad_words_list = open('HW3/llms-class-hw-3-main/bad_words/bad_words_list.txt').read().split('\\n')\n",
    "    dataset = dataset.filter(lambda x: cleaning.clean_other(x['text'], bad_words=bad_words_list), num_proc=num_proc)\n",
    "    after_filter = len(dataset)\n",
    "    print(f'Length before filtering: {before_filter}')\n",
    "    print(f'Length after filtering: {after_filter}')\n",
    "    print(f'Documents removed: {before_filter - after_filter}')\n",
    "    print()\n",
    "\n",
    "    print(\"Applying PII filter: \")\n",
    "    dataset = dataset.map(filter_pii, num_proc=8)\n",
    "    before_filter = np.sum(dataset['before_filter'])\n",
    "    after_filter = np.sum(dataset['after_filter'])\n",
    "    print(f\"Charaters before filtering: {before_filter}\")\n",
    "    print(f\"Charaters after filtering: {after_filter}\")\n",
    "    print(f'Characters removed: {before_filter - after_filter}')\n",
    "    \n",
    "    return dataset"
   ]
  },
  {
   "cell_type": "code",
   "execution_count": 6,
   "metadata": {},
   "outputs": [
    {
     "name": "stdout",
     "output_type": "stream",
     "text": [
      "Filtering non-english words: \n",
      "Words before filtering: 264841705\n",
      "Words after filtering: 258956021\n",
      "Words removed: 5885684\n",
      "\n",
      "Applying Offensive Words filtering: \n",
      "Length before filtering: 281979\n",
      "Length after filtering: 250435\n",
      "Documents removed: 31544\n",
      "\n",
      "Applying PII filter: \n",
      "Charaters before filtering: 1285062338\n",
      "Charaters after filtering: 1278348826\n",
      "Characters removed: 6713512\n"
     ]
    }
   ],
   "source": [
    "train_data_filtered = clean(train_data)"
   ]
  },
  {
   "cell_type": "code",
   "execution_count": 7,
   "metadata": {},
   "outputs": [
    {
     "name": "stdout",
     "output_type": "stream",
     "text": [
      "250435\n"
     ]
    }
   ],
   "source": [
    "print(len(train_data_filtered))"
   ]
  },
  {
   "cell_type": "code",
   "execution_count": 8,
   "metadata": {},
   "outputs": [
    {
     "name": "stdout",
     "output_type": "stream",
     "text": [
      "Filtering non-english words: \n",
      "Words before filtering: 13952369\n",
      "Words after filtering: 13608836\n",
      "Words removed: 343533\n",
      "\n",
      "Applying Offensive Words filtering: \n",
      "Length before filtering: 14842\n",
      "Length after filtering: 13225\n",
      "Documents removed: 1617\n",
      "\n",
      "Applying PII filter: \n",
      "Charaters before filtering: 67692417\n",
      "Charaters after filtering: 67353887\n",
      "Characters removed: 338530\n"
     ]
    }
   ],
   "source": [
    "val_data_filtered = clean(val_data)"
   ]
  },
  {
   "cell_type": "code",
   "execution_count": 9,
   "metadata": {},
   "outputs": [
    {
     "data": {
      "text/plain": [
       "DatasetDict({\n",
       "    train: Dataset({\n",
       "        features: ['text', 'timestamp', 'url'],\n",
       "        num_rows: 250435\n",
       "    })\n",
       "    val: Dataset({\n",
       "        features: ['text', 'timestamp', 'url'],\n",
       "        num_rows: 13225\n",
       "    })\n",
       "})"
      ]
     },
     "execution_count": 9,
     "metadata": {},
     "output_type": "execute_result"
    }
   ],
   "source": [
    "cols_to_remove = ['before_filter', 'after_filter']\n",
    "filtered_dataset = datasets.DatasetDict(\n",
    "    {\n",
    "        'train': train_data_filtered.remove_columns(cols_to_remove), \n",
    "        'val': val_data_filtered .remove_columns(cols_to_remove)\n",
    "    }\n",
    ")\n",
    "filtered_dataset"
   ]
  },
  {
   "cell_type": "code",
   "execution_count": 14,
   "metadata": {},
   "outputs": [
    {
     "name": "stderr",
     "output_type": "stream",
     "text": [
      "Saving the dataset (3/3 shards): 100%|██████████| 250435/250435 [00:00<00:00, 282093.42 examples/s]\n",
      "Saving the dataset (1/1 shards): 100%|██████████| 13225/13225 [00:00<00:00, 263694.26 examples/s]\n"
     ]
    }
   ],
   "source": [
    "filtered_dataset.save_to_disk('cleaned_data.arrow')"
   ]
  },
  {
   "cell_type": "code",
   "execution_count": 3,
   "metadata": {},
   "outputs": [
    {
     "data": {
      "text/plain": [
       "DatasetDict({\n",
       "    train: Dataset({\n",
       "        features: ['text', 'timestamp', 'url'],\n",
       "        num_rows: 250435\n",
       "    })\n",
       "    val: Dataset({\n",
       "        features: ['text', 'timestamp', 'url'],\n",
       "        num_rows: 13225\n",
       "    })\n",
       "})"
      ]
     },
     "execution_count": 3,
     "metadata": {},
     "output_type": "execute_result"
    }
   ],
   "source": [
    "filtered_dataset = datasets.load_from_disk('/home/ubuntu/LLM/HW3/llms-class-hw-3-main/src/cleaned_data.arrow')\n",
    "filtered_dataset"
   ]
  },
  {
   "cell_type": "code",
   "execution_count": 7,
   "metadata": {},
   "outputs": [],
   "source": [
    "tokenizer = tiktoken.get_encoding('gpt2')\n",
    "def tokenise(sample):\n",
    "    tokenised_text = tokenizer.encode(sample['text'])\n",
    "    tokenised_text.append(tokenizer.eot_token)\n",
    "    return {\"tokenised_text\": tokenised_text}"
   ]
  },
  {
   "cell_type": "code",
   "execution_count": 9,
   "metadata": {},
   "outputs": [
    {
     "name": "stderr",
     "output_type": "stream",
     "text": [
      "Map (num_proc=8): 100%|██████████| 250435/250435 [01:02<00:00, 3986.77 examples/s]\n",
      "Map (num_proc=8): 100%|██████████| 13225/13225 [00:03<00:00, 4305.37 examples/s]\n"
     ]
    }
   ],
   "source": [
    "train_data_filtered = filtered_dataset['train']\n",
    "val_data_filtered = filtered_dataset['val']\n",
    "\n",
    "train_data_tokenised = train_data_filtered.map(tokenise, num_proc=num_proc)\n",
    "val_data_tokenised = val_data_filtered.map(tokenise, num_proc=num_proc)"
   ]
  },
  {
   "cell_type": "code",
   "execution_count": 10,
   "metadata": {},
   "outputs": [
    {
     "data": {
      "text/plain": [
       "(314786851,)"
      ]
     },
     "execution_count": 10,
     "metadata": {},
     "output_type": "execute_result"
    }
   ],
   "source": [
    "train_data = np.concatenate(train_data_tokenised['tokenised_text'])\n",
    "train_data.shape"
   ]
  },
  {
   "cell_type": "code",
   "execution_count": 15,
   "metadata": {},
   "outputs": [
    {
     "data": {
      "text/plain": [
       "(16483617,)"
      ]
     },
     "execution_count": 15,
     "metadata": {},
     "output_type": "execute_result"
    }
   ],
   "source": [
    "val_data = np.concatenate(val_data_tokenised['tokenised_text'])\n",
    "val_data.shape"
   ]
  },
  {
   "cell_type": "code",
   "execution_count": 18,
   "metadata": {},
   "outputs": [],
   "source": [
    "np.savez('../dataset/tokens.npz', train = train_data, val = val_data)"
   ]
  },
  {
   "cell_type": "code",
   "execution_count": null,
   "metadata": {},
   "outputs": [],
   "source": []
  }
 ],
 "metadata": {
  "kernelspec": {
   "display_name": "HW3",
   "language": "python",
   "name": "python3"
  },
  "language_info": {
   "codemirror_mode": {
    "name": "ipython",
    "version": 3
   },
   "file_extension": ".py",
   "mimetype": "text/x-python",
   "name": "python",
   "nbconvert_exporter": "python",
   "pygments_lexer": "ipython3",
   "version": "3.10.13"
  }
 },
 "nbformat": 4,
 "nbformat_minor": 2
}
