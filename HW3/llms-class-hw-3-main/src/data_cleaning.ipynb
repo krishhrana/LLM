{
 "cells": [
  {
   "cell_type": "code",
   "execution_count": 1,
   "metadata": {},
   "outputs": [
    {
     "name": "stderr",
     "output_type": "stream",
     "text": [
      "/home/ubuntu/miniconda3/envs/HW3/lib/python3.10/site-packages/tqdm/auto.py:21: TqdmWarning: IProgress not found. Please update jupyter and ipywidgets. See https://ipywidgets.readthedocs.io/en/stable/user_install.html\n",
      "  from .autonotebook import tqdm as notebook_tqdm\n"
     ]
    }
   ],
   "source": [
    "import datasets\n",
    "import numpy as np\n",
    "import cleaning\n",
    "from get_data import fetch_data\n",
    "import re\n",
    "num_proc = 8"
   ]
  },
  {
   "cell_type": "code",
   "execution_count": 2,
   "metadata": {},
   "outputs": [
    {
     "name": "stderr",
     "output_type": "stream",
     "text": [
      "/home/ubuntu/miniconda3/envs/HW3/lib/python3.10/site-packages/huggingface_hub/repocard.py:105: UserWarning: Repo card metadata block was not found. Setting CardData to empty.\n",
      "  warnings.warn(\"Repo card metadata block was not found. Setting CardData to empty.\")\n"
     ]
    }
   ],
   "source": [
    "train_data, val_data = fetch_data()"
   ]
  },
  {
   "cell_type": "code",
   "execution_count": 3,
   "metadata": {},
   "outputs": [],
   "source": [
    "# Filtering non-english text at word level\n",
    "non_english_regex = re.compile(r'[^\\u0000-\\u007F]+')\n",
    "def filter_non_english(example):\n",
    "    text = example['text']\n",
    "    words = text.split()\n",
    "    english_words = [w for w in words if not cleaning.filter_noneng(w)]\n",
    "    return {'text': \" \".join(english_words), 'before_filter': len(words), 'after_filter': len(english_words)}"
   ]
  },
  {
   "cell_type": "code",
   "execution_count": 4,
   "metadata": {},
   "outputs": [],
   "source": [
    "def filter_pii(example):\n",
    "    filtered_text = cleaning.clean_pii(example['text'])\n",
    "    return {'text': filtered_text, 'before_filter': len(example['text']), 'after_filter': len(filtered_text)}"
   ]
  },
  {
   "cell_type": "code",
   "execution_count": 5,
   "metadata": {},
   "outputs": [],
   "source": [
    "def clean(dataset):\n",
    "    print(\"Filtering non-english words: \")\n",
    "    dataset = dataset.map(filter_non_english, num_proc = num_proc)\n",
    "    before_filter = np.sum(dataset['before_filter'])\n",
    "    after_filter = np.sum(dataset['after_filter'])\n",
    "    print(f'Words before filtering: {before_filter}')\n",
    "    print(f'Words after filtering: {after_filter}')\n",
    "    print(f'Words removed: {before_filter - after_filter}')\n",
    "    print()\n",
    "\n",
    "    print(\"Applying Offensive Words filtering: \")\n",
    "    before_filter = len(dataset)\n",
    "    bad_words_list = open('data/bad_words_list.txt').read().split('\\n')\n",
    "    dataset = dataset.filter(lambda x: cleaning.clean_other(x['text'], bad_words=bad_words_list), num_proc=num_proc)\n",
    "    after_filter = len(dataset)\n",
    "    print(f'Length before filtering: {before_filter}')\n",
    "    print(f'Length after filtering: {after_filter}')\n",
    "    print(f'Documents removed: {before_filter - after_filter}')\n",
    "    print()\n",
    "\n",
    "    print(\"Applying PII filter: \")\n",
    "    dataset = dataset.map(filter_pii, num_proc=8)\n",
    "    before_filter = np.sum(dataset['before_filter'])\n",
    "    after_filter = np.sum(dataset['after_filter'])\n",
    "    print(f\"Charaters before filtering: {before_filter}\")\n",
    "    print(f\"Charaters after filtering: {after_filter}\")\n",
    "    print(f'Characters removed: {before_filter - after_filter}')\n",
    "    \n",
    "    return dataset"
   ]
  },
  {
   "cell_type": "code",
   "execution_count": 6,
   "metadata": {},
   "outputs": [
    {
     "name": "stdout",
     "output_type": "stream",
     "text": [
      "Filtering non-english words: \n",
      "Words before filtering: 264841705\n",
      "Words after filtering: 258956021\n",
      "Words removed: 5885684\n",
      "\n",
      "Applying Offensive Words filtering: \n",
      "Length before filtering: 281979\n",
      "Length after filtering: 250435\n",
      "Documents removed: 31544\n",
      "\n",
      "Applying PII filter: \n",
      "Charaters before filtering: 1285062338\n",
      "Charaters after filtering: 1278348826\n",
      "Characters removed: 6713512\n"
     ]
    }
   ],
   "source": [
    "train_data_filtered = clean(train_data)"
   ]
  },
  {
   "cell_type": "code",
   "execution_count": 7,
   "metadata": {},
   "outputs": [
    {
     "name": "stdout",
     "output_type": "stream",
     "text": [
      "250435\n"
     ]
    }
   ],
   "source": [
    "print(len(train_data_filtered))"
   ]
  },
  {
   "cell_type": "code",
   "execution_count": 8,
   "metadata": {},
   "outputs": [
    {
     "name": "stdout",
     "output_type": "stream",
     "text": [
      "Filtering non-english words: \n",
      "Words before filtering: 13952369\n",
      "Words after filtering: 13608836\n",
      "Words removed: 343533\n",
      "\n",
      "Applying Offensive Words filtering: \n",
      "Length before filtering: 14842\n",
      "Length after filtering: 13225\n",
      "Documents removed: 1617\n",
      "\n",
      "Applying PII filter: \n",
      "Charaters before filtering: 67692417\n",
      "Charaters after filtering: 67353887\n",
      "Characters removed: 338530\n"
     ]
    }
   ],
   "source": [
    "val_data_filtered = clean(val_data)"
   ]
  },
  {
   "cell_type": "code",
   "execution_count": 9,
   "metadata": {},
   "outputs": [
    {
     "data": {
      "text/plain": [
       "DatasetDict({\n",
       "    train: Dataset({\n",
       "        features: ['text', 'timestamp', 'url'],\n",
       "        num_rows: 250435\n",
       "    })\n",
       "    val: Dataset({\n",
       "        features: ['text', 'timestamp', 'url'],\n",
       "        num_rows: 13225\n",
       "    })\n",
       "})"
      ]
     },
     "execution_count": 9,
     "metadata": {},
     "output_type": "execute_result"
    }
   ],
   "source": [
    "cols_to_remove = ['before_filter', 'after_filter']\n",
    "filtered_dataset = datasets.DatasetDict(\n",
    "    {\n",
    "        'train': train_data_filtered.remove_columns(cols_to_remove), \n",
    "        'val': val_data_filtered .remove_columns(cols_to_remove)\n",
    "    }\n",
    ")\n",
    "filtered_dataset"
   ]
  },
  {
   "cell_type": "code",
   "execution_count": 14,
   "metadata": {},
   "outputs": [
    {
     "name": "stderr",
     "output_type": "stream",
     "text": [
      "Saving the dataset (3/3 shards): 100%|██████████| 250435/250435 [00:00<00:00, 282093.42 examples/s]\n",
      "Saving the dataset (1/1 shards): 100%|██████████| 13225/13225 [00:00<00:00, 263694.26 examples/s]\n"
     ]
    }
   ],
   "source": [
    "filtered_dataset.save_to_disk('cleaned_data.arrow')"
   ]
  },
  {
   "cell_type": "code",
   "execution_count": null,
   "metadata": {},
   "outputs": [],
   "source": []
  }
 ],
 "metadata": {
  "kernelspec": {
   "display_name": "HW3",
   "language": "python",
   "name": "python3"
  },
  "language_info": {
   "codemirror_mode": {
    "name": "ipython",
    "version": 3
   },
   "file_extension": ".py",
   "mimetype": "text/x-python",
   "name": "python",
   "nbconvert_exporter": "python",
   "pygments_lexer": "ipython3",
   "version": "3.10.13"
  }
 },
 "nbformat": 4,
 "nbformat_minor": 2
}
