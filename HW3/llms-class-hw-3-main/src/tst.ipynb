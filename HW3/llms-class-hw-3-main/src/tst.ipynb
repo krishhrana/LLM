{
 "cells": [
  {
   "cell_type": "code",
   "execution_count": 18,
   "metadata": {},
   "outputs": [
    {
     "name": "stdout",
     "output_type": "stream",
     "text": [
      "False\n"
     ]
    }
   ],
   "source": [
    "import re\n",
    "text = 'hi my name is Samuel and this sentence is in English' \n",
    "non_english_regex = re.compile(r'[^\\u0000-\\u007F]+')\n",
    "a = non_english_regex.search(text)\n",
    "print(bool(a))"
   ]
  },
  {
   "cell_type": "code",
   "execution_count": 1,
   "metadata": {},
   "outputs": [],
   "source": [
    "from cleaning import filter_noneng\n",
    "\n",
    "\n",
    "def test_japanese():\n",
    "    original_string = 'これは英語ではありません' \n",
    "\n",
    "    assert filter_noneng(original_string)\n",
    "\n",
    "def test_chinese():\n",
    "    original_string = '这不是英文' \n",
    "\n",
    "    assert filter_noneng(original_string)\n",
    "\n",
    "\n",
    "def test_vietnamese():\n",
    "    original_string = 'đây là tiếng việt' \n",
    "\n",
    "    assert filter_noneng(original_string)\n",
    "\n",
    "\n",
    "def test_russian():\n",
    "    original_string = 'это не английский' \n",
    "\n",
    "    assert filter_noneng(original_string)\n",
    "\n",
    "def test_spanish():\n",
    "    original_string = '¿Esto será eliminado?' \n",
    "\n",
    "    assert filter_noneng(original_string)\n",
    "\n",
    "\n",
    "def test_spanish_2():\n",
    "    original_string = 'este idioma es divertido' \n",
    "\n",
    "    assert not filter_noneng(original_string)\n",
    "\n",
    "\n",
    "def test_english_1():\n",
    "    original_string = 'hi my name is Samuel and this sentence is in English' \n",
    "\n",
    "    assert not filter_noneng(original_string)\n",
    "\n",
    "\n",
    "def test_mixture_1():\n",
    "    original_string = 'Pyotr Ilyich Tchaikovsky (Петр Ильич Чайковский) is known for his ballet music.' \n",
    "\n",
    "    assert filter_noneng(original_string)\n",
    "\n",
    "\n",
    "def test_mixture_2():\n",
    "    original_string = 'đây là tiếng việt and this is in the same sentence.' \n",
    "\n",
    "    assert filter_noneng(original_string)\n",
    "\n",
    "\n",
    "def test_ascii_art():\n",
    "    original_string = '°º¤ø,¸¸,ø¤º°`°º¤ø,¸,ø¤°º¤ø,¸¸,ø¤º°`°º¤ø,¸' \n",
    "\n",
    "    assert filter_noneng(original_string)\n",
    "\n"
   ]
  },
  {
   "cell_type": "code",
   "execution_count": 2,
   "metadata": {},
   "outputs": [],
   "source": [
    "test_japanese()\n",
    "test_chinese()\n",
    "test_ascii_art()\n",
    "test_english_1()\n",
    "test_mixture_1()\n",
    "test_mixture_2()\n",
    "test_russian()\n",
    "test_spanish()\n",
    "test_spanish_2()\n",
    "test_vietnamese()"
   ]
  },
  {
   "cell_type": "code",
   "execution_count": 43,
   "metadata": {},
   "outputs": [],
   "source": [
    "import langid\n",
    "\n",
    "def detect_lang(text):\n",
    "    lang, _ = langid.classify(text)\n",
    "    print(lang)\n",
    "    return lang != 'en'"
   ]
  },
  {
   "cell_type": "code",
   "execution_count": 1,
   "metadata": {},
   "outputs": [
    {
     "data": {
      "text/plain": [
       "True"
      ]
     },
     "execution_count": 1,
     "metadata": {},
     "output_type": "execute_result"
    }
   ],
   "source": [
    "from cleaning import filter_noneng\n",
    "original_string = 'este idioma es divertido' \n",
    "filter_noneng(original_string)"
   ]
  },
  {
   "cell_type": "code",
   "execution_count": 1,
   "metadata": {},
   "outputs": [],
   "source": [
    "from cleaning import clean_pii\n",
    "\n",
    "def test_phone_number_1():\n",
    "    dirty_string = 'CMU\\'s phone number is (412) 268-2000' \n",
    "    clean_string = 'CMU\\'s phone number is '\n",
    "    assert clean_pii(dirty_string) == clean_string\n",
    "\n",
    "def test_phone_number_2():\n",
    "    dirty_string = 'CMU\\'s phone number is 412-268-2000' \n",
    "    clean_string = 'CMU\\'s phone number is '\n",
    "\n",
    "    assert clean_pii(dirty_string) == clean_string\n",
    "\n",
    "def test_phone_number_3():\n",
    "    dirty_string = '(412)268-2000' \n",
    "    clean_string = ''\n",
    "\n",
    "    assert clean_pii(dirty_string) == clean_string\n",
    "\n",
    "def test_phone_number_4():\n",
    "    dirty_string = '+14122682000' \n",
    "    clean_string = ''\n",
    "\n",
    "    assert clean_pii(dirty_string) == clean_string\n",
    "\n",
    "def test_email_1():\n",
    "    dirty_string = 'email me at abertsch@cs.cmu.edu'\n",
    "    clean_string = 'email me at '\n",
    "    assert clean_pii(dirty_string) == clean_string\n",
    "\n",
    "def test_email_2():\n",
    "    dirty_string = 'randomemail@gmail.com'\n",
    "    clean_string = ''\n",
    "    assert clean_pii(dirty_string) == clean_string\n",
    "    \n",
    "def test_non_pii_1():\n",
    "    dirty_string = 'come see me @work tmr'\n",
    "    assert clean_pii(dirty_string) == dirty_string\n",
    "\n",
    "def test_non_pii_2():\n",
    "    dirty_string = 'I have 205,124,126 tokens in one dataset'\n",
    "    assert clean_pii(dirty_string) == dirty_string\n",
    "\n",
    "def test_non_pii_3():\n",
    "    dirty_string = 'there are between 142-315 cookies left after the bake sale'\n",
    "    assert clean_pii(dirty_string) == dirty_string\n",
    "\n",
    "def test_snn_1():\n",
    "    dirty_string = '123-45-6789'\n",
    "    clean_string = ''\n",
    "    assert clean_pii(dirty_string) == clean_string\n"
   ]
  },
  {
   "cell_type": "code",
   "execution_count": 2,
   "metadata": {},
   "outputs": [],
   "source": [
    "test_phone_number_1()\n",
    "test_phone_number_2()\n",
    "test_phone_number_3()\n",
    "test_phone_number_4()\n",
    "test_email_1()\n",
    "test_email_2()\n",
    "test_non_pii_1()\n",
    "test_non_pii_2()\n",
    "test_non_pii_3()\n",
    "test_snn_1()"
   ]
  },
  {
   "cell_type": "code",
   "execution_count": 4,
   "metadata": {},
   "outputs": [
    {
     "data": {
      "text/plain": [
       "'Reach out at john(dot)doe(at)email(dot)com.'"
      ]
     },
     "execution_count": 4,
     "metadata": {},
     "output_type": "execute_result"
    }
   ],
   "source": [
    "text = \"Reach out at john(dot)doe(at)email(dot)com.\"\n",
    "clean_pii(text)"
   ]
  },
  {
   "cell_type": "code",
   "execution_count": null,
   "metadata": {},
   "outputs": [],
   "source": []
  }
 ],
 "metadata": {
  "kernelspec": {
   "display_name": "HW3",
   "language": "python",
   "name": "python3"
  },
  "language_info": {
   "codemirror_mode": {
    "name": "ipython",
    "version": 3
   },
   "file_extension": ".py",
   "mimetype": "text/x-python",
   "name": "python",
   "nbconvert_exporter": "python",
   "pygments_lexer": "ipython3",
   "version": "3.10.13"
  }
 },
 "nbformat": 4,
 "nbformat_minor": 2
}
