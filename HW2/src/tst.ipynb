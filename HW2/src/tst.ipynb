{
 "cells": [
  {
   "cell_type": "code",
   "execution_count": 48,
   "metadata": {},
   "outputs": [],
   "source": [
    "import torch\n",
    "import tiktoken\n",
    "\n",
    "batch_size = 3\n",
    "tokenizer = tiktoken.encoding_for_model('gpt2')\n",
    "prefixes = ['a', 'b', 'cc', 'ddddd']\n",
    "\n",
    "prefixes = tokenizer.encode_batch(prefixes)\n",
    "max_len = max([len(i) for i in prefixes])\n",
    "padded_prefixes = [[tokenizer.eot_token] * (max_len - len(i)) + i for i in prefixes]\n",
    "\n",
    "batch_rem = len(prefixes) % batch_size\n",
    "batch_padding = torch.ones(size=(batch_size - batch_rem, max_len))\n",
    "batch_padding = batch_padding.masked_fill(batch_padding == 1, tokenizer.eot_token)\n",
    "\n",
    "padded_prefixes = torch.tensor(padded_prefixes)\n",
    "batch_prefixes = torch.cat((padded_prefixes, batch_padding), dim = 0)\n",
    "batch_prefixes = batch_prefixes.reshape(-1, batch_size, max_len)\n",
    "\n",
    "attn_mask = torch.ones_like(batch_prefixes)\n",
    "attn_mask = attn_mask.masked_fill(batch_prefixes == tokenizer.eot_token, 0)\n"
   ]
  },
  {
   "cell_type": "code",
   "execution_count": 49,
   "metadata": {},
   "outputs": [
    {
     "data": {
      "text/plain": [
       "tensor([[[50256., 50256.,    64.],\n",
       "         [50256., 50256.,    65.],\n",
       "         [50256., 50256.,   535.]],\n",
       "\n",
       "        [[ 1860.,  1860.,    67.],\n",
       "         [50256., 50256., 50256.],\n",
       "         [50256., 50256., 50256.]]])"
      ]
     },
     "execution_count": 49,
     "metadata": {},
     "output_type": "execute_result"
    }
   ],
   "source": [
    "batch_prefixes"
   ]
  },
  {
   "cell_type": "code",
   "execution_count": 50,
   "metadata": {},
   "outputs": [
    {
     "data": {
      "text/plain": [
       "tensor([[[0., 0., 1.],\n",
       "         [0., 0., 1.],\n",
       "         [0., 0., 1.]],\n",
       "\n",
       "        [[1., 1., 1.],\n",
       "         [0., 0., 0.],\n",
       "         [0., 0., 0.]]])"
      ]
     },
     "execution_count": 50,
     "metadata": {},
     "output_type": "execute_result"
    }
   ],
   "source": [
    "attn_mask"
   ]
  },
  {
   "cell_type": "code",
   "execution_count": 31,
   "metadata": {},
   "outputs": [],
   "source": [
    "padded_prefixes = torch.tensor(padded_prefixes)"
   ]
  },
  {
   "cell_type": "code",
   "execution_count": 33,
   "metadata": {},
   "outputs": [
    {
     "data": {
      "text/plain": [
       "torch.Size([4, 3])"
      ]
     },
     "execution_count": 33,
     "metadata": {},
     "output_type": "execute_result"
    }
   ],
   "source": [
    "padded_prefixes.shape"
   ]
  },
  {
   "cell_type": "code",
   "execution_count": 41,
   "metadata": {},
   "outputs": [
    {
     "data": {
      "text/plain": [
       "tensor([[[50256., 50256.,    64.],\n",
       "         [50256., 50256.,    65.],\n",
       "         [50256., 50256.,   535.]],\n",
       "\n",
       "        [[ 1860.,  1860.,    67.],\n",
       "         [50256., 50256., 50256.],\n",
       "         [50256., 50256., 50256.]]])"
      ]
     },
     "execution_count": 41,
     "metadata": {},
     "output_type": "execute_result"
    }
   ],
   "source": []
  },
  {
   "cell_type": "code",
   "execution_count": 44,
   "metadata": {},
   "outputs": [],
   "source": [
    "attn_mask = torch.ones_like(batch_prefixes)\n",
    "attn_mask = attn_mask.masked_fill(batch_prefixes == tokenizer.eot_token, 0)"
   ]
  },
  {
   "cell_type": "code",
   "execution_count": null,
   "metadata": {},
   "outputs": [],
   "source": []
  },
  {
   "cell_type": "code",
   "execution_count": 45,
   "metadata": {},
   "outputs": [
    {
     "data": {
      "text/plain": [
       "tensor([[[0., 0., 1.],\n",
       "         [0., 0., 1.],\n",
       "         [0., 0., 1.]],\n",
       "\n",
       "        [[1., 1., 1.],\n",
       "         [0., 0., 0.],\n",
       "         [0., 0., 0.]]])"
      ]
     },
     "execution_count": 45,
     "metadata": {},
     "output_type": "execute_result"
    }
   ],
   "source": [
    "attn_mask"
   ]
  },
  {
   "cell_type": "code",
   "execution_count": null,
   "metadata": {},
   "outputs": [],
   "source": []
  }
 ],
 "metadata": {
  "kernelspec": {
   "display_name": "HW2",
   "language": "python",
   "name": "python3"
  },
  "language_info": {
   "codemirror_mode": {
    "name": "ipython",
    "version": 3
   },
   "file_extension": ".py",
   "mimetype": "text/x-python",
   "name": "python",
   "nbconvert_exporter": "python",
   "pygments_lexer": "ipython3",
   "version": "3.10.12"
  }
 },
 "nbformat": 4,
 "nbformat_minor": 2
}
